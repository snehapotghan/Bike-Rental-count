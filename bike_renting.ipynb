{
 "cells": [
  {
   "cell_type": "code",
   "execution_count": 58,
   "metadata": {},
   "outputs": [],
   "source": [
    "import os\n",
    "import pandas as pd\n",
    "import numpy as np  \n",
    "import matplotlib.pyplot as plt\n",
    "from scipy.stats import chi2_contingency\n",
    "#import seaborn as sns\n",
    "from random import randrange, uniform\n",
    "import datetime as dt\n",
    "from sklearn.model_selection import train_test_split\n",
    "from sklearn.tree import DecisionTreeRegressor\n",
    "#import statsmodels.api as sm\n",
    "from sklearn.ensemble import RandomForestRegressor\n",
    "from  matplotlib import pyplot \n",
    "import seaborn as sns\n",
    "from sklearn.model_selection import train_test_split\n",
    "from sklearn.model_selection import cross_val_score,cross_val_predict,train_test_split"
   ]
  },
  {
   "cell_type": "code",
   "execution_count": 59,
   "metadata": {},
   "outputs": [],
   "source": [
    "os.chdir(\"D:\\SnehaDS\")"
   ]
  },
  {
   "cell_type": "code",
   "execution_count": 60,
   "metadata": {},
   "outputs": [],
   "source": [
    "data = pd.read_csv(\"day.csv\")"
   ]
  },
  {
   "cell_type": "code",
   "execution_count": 61,
   "metadata": {},
   "outputs": [
    {
     "data": {
      "text/html": [
       "<div>\n",
       "<style scoped>\n",
       "    .dataframe tbody tr th:only-of-type {\n",
       "        vertical-align: middle;\n",
       "    }\n",
       "\n",
       "    .dataframe tbody tr th {\n",
       "        vertical-align: top;\n",
       "    }\n",
       "\n",
       "    .dataframe thead th {\n",
       "        text-align: right;\n",
       "    }\n",
       "</style>\n",
       "<table border=\"1\" class=\"dataframe\">\n",
       "  <thead>\n",
       "    <tr style=\"text-align: right;\">\n",
       "      <th></th>\n",
       "      <th>instant</th>\n",
       "      <th>dteday</th>\n",
       "      <th>season</th>\n",
       "      <th>yr</th>\n",
       "      <th>mnth</th>\n",
       "      <th>holiday</th>\n",
       "      <th>weekday</th>\n",
       "      <th>workingday</th>\n",
       "      <th>weathersit</th>\n",
       "      <th>temp</th>\n",
       "      <th>atemp</th>\n",
       "      <th>hum</th>\n",
       "      <th>windspeed</th>\n",
       "      <th>casual</th>\n",
       "      <th>registered</th>\n",
       "      <th>cnt</th>\n",
       "    </tr>\n",
       "  </thead>\n",
       "  <tbody>\n",
       "    <tr>\n",
       "      <td>0</td>\n",
       "      <td>1</td>\n",
       "      <td>2011-01-01</td>\n",
       "      <td>1</td>\n",
       "      <td>0</td>\n",
       "      <td>1</td>\n",
       "      <td>0</td>\n",
       "      <td>6</td>\n",
       "      <td>0</td>\n",
       "      <td>2</td>\n",
       "      <td>0.344167</td>\n",
       "      <td>0.363625</td>\n",
       "      <td>0.805833</td>\n",
       "      <td>0.160446</td>\n",
       "      <td>331</td>\n",
       "      <td>654</td>\n",
       "      <td>985</td>\n",
       "    </tr>\n",
       "    <tr>\n",
       "      <td>1</td>\n",
       "      <td>2</td>\n",
       "      <td>2011-01-02</td>\n",
       "      <td>1</td>\n",
       "      <td>0</td>\n",
       "      <td>1</td>\n",
       "      <td>0</td>\n",
       "      <td>0</td>\n",
       "      <td>0</td>\n",
       "      <td>2</td>\n",
       "      <td>0.363478</td>\n",
       "      <td>0.353739</td>\n",
       "      <td>0.696087</td>\n",
       "      <td>0.248539</td>\n",
       "      <td>131</td>\n",
       "      <td>670</td>\n",
       "      <td>801</td>\n",
       "    </tr>\n",
       "    <tr>\n",
       "      <td>2</td>\n",
       "      <td>3</td>\n",
       "      <td>2011-01-03</td>\n",
       "      <td>1</td>\n",
       "      <td>0</td>\n",
       "      <td>1</td>\n",
       "      <td>0</td>\n",
       "      <td>1</td>\n",
       "      <td>1</td>\n",
       "      <td>1</td>\n",
       "      <td>0.196364</td>\n",
       "      <td>0.189405</td>\n",
       "      <td>0.437273</td>\n",
       "      <td>0.248309</td>\n",
       "      <td>120</td>\n",
       "      <td>1229</td>\n",
       "      <td>1349</td>\n",
       "    </tr>\n",
       "    <tr>\n",
       "      <td>3</td>\n",
       "      <td>4</td>\n",
       "      <td>2011-01-04</td>\n",
       "      <td>1</td>\n",
       "      <td>0</td>\n",
       "      <td>1</td>\n",
       "      <td>0</td>\n",
       "      <td>2</td>\n",
       "      <td>1</td>\n",
       "      <td>1</td>\n",
       "      <td>0.200000</td>\n",
       "      <td>0.212122</td>\n",
       "      <td>0.590435</td>\n",
       "      <td>0.160296</td>\n",
       "      <td>108</td>\n",
       "      <td>1454</td>\n",
       "      <td>1562</td>\n",
       "    </tr>\n",
       "    <tr>\n",
       "      <td>4</td>\n",
       "      <td>5</td>\n",
       "      <td>2011-01-05</td>\n",
       "      <td>1</td>\n",
       "      <td>0</td>\n",
       "      <td>1</td>\n",
       "      <td>0</td>\n",
       "      <td>3</td>\n",
       "      <td>1</td>\n",
       "      <td>1</td>\n",
       "      <td>0.226957</td>\n",
       "      <td>0.229270</td>\n",
       "      <td>0.436957</td>\n",
       "      <td>0.186900</td>\n",
       "      <td>82</td>\n",
       "      <td>1518</td>\n",
       "      <td>1600</td>\n",
       "    </tr>\n",
       "    <tr>\n",
       "      <td>5</td>\n",
       "      <td>6</td>\n",
       "      <td>2011-01-06</td>\n",
       "      <td>1</td>\n",
       "      <td>0</td>\n",
       "      <td>1</td>\n",
       "      <td>0</td>\n",
       "      <td>4</td>\n",
       "      <td>1</td>\n",
       "      <td>1</td>\n",
       "      <td>0.204348</td>\n",
       "      <td>0.233209</td>\n",
       "      <td>0.518261</td>\n",
       "      <td>0.089565</td>\n",
       "      <td>88</td>\n",
       "      <td>1518</td>\n",
       "      <td>1606</td>\n",
       "    </tr>\n",
       "    <tr>\n",
       "      <td>6</td>\n",
       "      <td>7</td>\n",
       "      <td>2011-01-07</td>\n",
       "      <td>1</td>\n",
       "      <td>0</td>\n",
       "      <td>1</td>\n",
       "      <td>0</td>\n",
       "      <td>5</td>\n",
       "      <td>1</td>\n",
       "      <td>2</td>\n",
       "      <td>0.196522</td>\n",
       "      <td>0.208839</td>\n",
       "      <td>0.498696</td>\n",
       "      <td>0.168726</td>\n",
       "      <td>148</td>\n",
       "      <td>1362</td>\n",
       "      <td>1510</td>\n",
       "    </tr>\n",
       "    <tr>\n",
       "      <td>7</td>\n",
       "      <td>8</td>\n",
       "      <td>2011-01-08</td>\n",
       "      <td>1</td>\n",
       "      <td>0</td>\n",
       "      <td>1</td>\n",
       "      <td>0</td>\n",
       "      <td>6</td>\n",
       "      <td>0</td>\n",
       "      <td>2</td>\n",
       "      <td>0.165000</td>\n",
       "      <td>0.162254</td>\n",
       "      <td>0.535833</td>\n",
       "      <td>0.266804</td>\n",
       "      <td>68</td>\n",
       "      <td>891</td>\n",
       "      <td>959</td>\n",
       "    </tr>\n",
       "    <tr>\n",
       "      <td>8</td>\n",
       "      <td>9</td>\n",
       "      <td>2011-01-09</td>\n",
       "      <td>1</td>\n",
       "      <td>0</td>\n",
       "      <td>1</td>\n",
       "      <td>0</td>\n",
       "      <td>0</td>\n",
       "      <td>0</td>\n",
       "      <td>1</td>\n",
       "      <td>0.138333</td>\n",
       "      <td>0.116175</td>\n",
       "      <td>0.434167</td>\n",
       "      <td>0.361950</td>\n",
       "      <td>54</td>\n",
       "      <td>768</td>\n",
       "      <td>822</td>\n",
       "    </tr>\n",
       "    <tr>\n",
       "      <td>9</td>\n",
       "      <td>10</td>\n",
       "      <td>2011-01-10</td>\n",
       "      <td>1</td>\n",
       "      <td>0</td>\n",
       "      <td>1</td>\n",
       "      <td>0</td>\n",
       "      <td>1</td>\n",
       "      <td>1</td>\n",
       "      <td>1</td>\n",
       "      <td>0.150833</td>\n",
       "      <td>0.150888</td>\n",
       "      <td>0.482917</td>\n",
       "      <td>0.223267</td>\n",
       "      <td>41</td>\n",
       "      <td>1280</td>\n",
       "      <td>1321</td>\n",
       "    </tr>\n",
       "  </tbody>\n",
       "</table>\n",
       "</div>"
      ],
      "text/plain": [
       "   instant      dteday  season  yr  mnth  holiday  weekday  workingday  \\\n",
       "0        1  2011-01-01       1   0     1        0        6           0   \n",
       "1        2  2011-01-02       1   0     1        0        0           0   \n",
       "2        3  2011-01-03       1   0     1        0        1           1   \n",
       "3        4  2011-01-04       1   0     1        0        2           1   \n",
       "4        5  2011-01-05       1   0     1        0        3           1   \n",
       "5        6  2011-01-06       1   0     1        0        4           1   \n",
       "6        7  2011-01-07       1   0     1        0        5           1   \n",
       "7        8  2011-01-08       1   0     1        0        6           0   \n",
       "8        9  2011-01-09       1   0     1        0        0           0   \n",
       "9       10  2011-01-10       1   0     1        0        1           1   \n",
       "\n",
       "   weathersit      temp     atemp       hum  windspeed  casual  registered  \\\n",
       "0           2  0.344167  0.363625  0.805833   0.160446     331         654   \n",
       "1           2  0.363478  0.353739  0.696087   0.248539     131         670   \n",
       "2           1  0.196364  0.189405  0.437273   0.248309     120        1229   \n",
       "3           1  0.200000  0.212122  0.590435   0.160296     108        1454   \n",
       "4           1  0.226957  0.229270  0.436957   0.186900      82        1518   \n",
       "5           1  0.204348  0.233209  0.518261   0.089565      88        1518   \n",
       "6           2  0.196522  0.208839  0.498696   0.168726     148        1362   \n",
       "7           2  0.165000  0.162254  0.535833   0.266804      68         891   \n",
       "8           1  0.138333  0.116175  0.434167   0.361950      54         768   \n",
       "9           1  0.150833  0.150888  0.482917   0.223267      41        1280   \n",
       "\n",
       "    cnt  \n",
       "0   985  \n",
       "1   801  \n",
       "2  1349  \n",
       "3  1562  \n",
       "4  1600  \n",
       "5  1606  \n",
       "6  1510  \n",
       "7   959  \n",
       "8   822  \n",
       "9  1321  "
      ]
     },
     "execution_count": 61,
     "metadata": {},
     "output_type": "execute_result"
    }
   ],
   "source": [
    "data.head(10)"
   ]
  },
  {
   "cell_type": "code",
   "execution_count": 62,
   "metadata": {},
   "outputs": [
    {
     "data": {
      "text/plain": [
       "(731, 16)"
      ]
     },
     "execution_count": 62,
     "metadata": {},
     "output_type": "execute_result"
    }
   ],
   "source": [
    "data.shape"
   ]
  },
  {
   "cell_type": "code",
   "execution_count": 63,
   "metadata": {},
   "outputs": [
    {
     "data": {
      "text/plain": [
       "Index(['instant', 'dteday', 'season', 'yr', 'mnth', 'holiday', 'weekday',\n",
       "       'workingday', 'weathersit', 'temp', 'atemp', 'hum', 'windspeed',\n",
       "       'casual', 'registered', 'cnt'],\n",
       "      dtype='object')"
      ]
     },
     "execution_count": 63,
     "metadata": {},
     "output_type": "execute_result"
    }
   ],
   "source": [
    "data.columns"
   ]
  },
  {
   "cell_type": "code",
   "execution_count": 64,
   "metadata": {},
   "outputs": [
    {
     "data": {
      "text/plain": [
       "pandas.core.frame.DataFrame"
      ]
     },
     "execution_count": 64,
     "metadata": {},
     "output_type": "execute_result"
    }
   ],
   "source": [
    "type(data)"
   ]
  },
  {
   "cell_type": "code",
   "execution_count": 65,
   "metadata": {},
   "outputs": [
    {
     "data": {
      "text/plain": [
       "(731, 16)"
      ]
     },
     "execution_count": 65,
     "metadata": {},
     "output_type": "execute_result"
    }
   ],
   "source": [
    "data.shape"
   ]
  },
  {
   "cell_type": "code",
   "execution_count": 66,
   "metadata": {},
   "outputs": [
    {
     "data": {
      "text/plain": [
       "instant         int64\n",
       "dteday         object\n",
       "season          int64\n",
       "yr              int64\n",
       "mnth            int64\n",
       "holiday         int64\n",
       "weekday         int64\n",
       "workingday      int64\n",
       "weathersit      int64\n",
       "temp          float64\n",
       "atemp         float64\n",
       "hum           float64\n",
       "windspeed     float64\n",
       "casual          int64\n",
       "registered      int64\n",
       "cnt             int64\n",
       "dtype: object"
      ]
     },
     "execution_count": 66,
     "metadata": {},
     "output_type": "execute_result"
    }
   ],
   "source": [
    "data.dtypes"
   ]
  },
  {
   "cell_type": "code",
   "execution_count": 67,
   "metadata": {},
   "outputs": [],
   "source": [
    "data.rename(columns={'instant':'rec_id','dteday':'datetime','yr':'year','mnth':'month','weathersit':'weather_condition',\n",
    "                       'hum':'humidity','cnt':'total_count'},inplace=True)"
   ]
  },
  {
   "cell_type": "code",
   "execution_count": 68,
   "metadata": {},
   "outputs": [
    {
     "data": {
      "text/plain": [
       "Index(['rec_id', 'datetime', 'season', 'year', 'month', 'holiday', 'weekday',\n",
       "       'workingday', 'weather_condition', 'temp', 'atemp', 'humidity',\n",
       "       'windspeed', 'casual', 'registered', 'total_count'],\n",
       "      dtype='object')"
      ]
     },
     "execution_count": 68,
     "metadata": {},
     "output_type": "execute_result"
    }
   ],
   "source": [
    "data.columns"
   ]
  },
  {
   "cell_type": "code",
   "execution_count": 69,
   "metadata": {},
   "outputs": [],
   "source": [
    "data['datetime']=pd.to_datetime(data.datetime)\n",
    "\n",
    "data['season']=data.season.astype('category')\n",
    "data['year']=data.year.astype('category')\n",
    "data['month']=data.month.astype('category')\n",
    "data['holiday']=data.holiday.astype('category')\n",
    "data['weekday']=data.weekday.astype('category')\n",
    "data['workingday']=data.workingday.astype('category')\n",
    "data['weather_condition']=data.weather_condition.astype('category')"
   ]
  },
  {
   "cell_type": "code",
   "execution_count": 70,
   "metadata": {},
   "outputs": [
    {
     "data": {
      "text/html": [
       "<div>\n",
       "<style scoped>\n",
       "    .dataframe tbody tr th:only-of-type {\n",
       "        vertical-align: middle;\n",
       "    }\n",
       "\n",
       "    .dataframe tbody tr th {\n",
       "        vertical-align: top;\n",
       "    }\n",
       "\n",
       "    .dataframe thead th {\n",
       "        text-align: right;\n",
       "    }\n",
       "</style>\n",
       "<table border=\"1\" class=\"dataframe\">\n",
       "  <thead>\n",
       "    <tr style=\"text-align: right;\">\n",
       "      <th></th>\n",
       "      <th>rec_id</th>\n",
       "      <th>datetime</th>\n",
       "      <th>season</th>\n",
       "      <th>year</th>\n",
       "      <th>month</th>\n",
       "      <th>holiday</th>\n",
       "      <th>weekday</th>\n",
       "      <th>workingday</th>\n",
       "      <th>weather_condition</th>\n",
       "      <th>temp</th>\n",
       "      <th>atemp</th>\n",
       "      <th>humidity</th>\n",
       "      <th>windspeed</th>\n",
       "      <th>casual</th>\n",
       "      <th>registered</th>\n",
       "      <th>total_count</th>\n",
       "    </tr>\n",
       "  </thead>\n",
       "  <tbody>\n",
       "    <tr>\n",
       "      <td>0</td>\n",
       "      <td>1</td>\n",
       "      <td>2011-01-01</td>\n",
       "      <td>1</td>\n",
       "      <td>0</td>\n",
       "      <td>1</td>\n",
       "      <td>0</td>\n",
       "      <td>6</td>\n",
       "      <td>0</td>\n",
       "      <td>2</td>\n",
       "      <td>0.344167</td>\n",
       "      <td>0.363625</td>\n",
       "      <td>0.805833</td>\n",
       "      <td>0.160446</td>\n",
       "      <td>331</td>\n",
       "      <td>654</td>\n",
       "      <td>985</td>\n",
       "    </tr>\n",
       "    <tr>\n",
       "      <td>1</td>\n",
       "      <td>2</td>\n",
       "      <td>2011-01-02</td>\n",
       "      <td>1</td>\n",
       "      <td>0</td>\n",
       "      <td>1</td>\n",
       "      <td>0</td>\n",
       "      <td>0</td>\n",
       "      <td>0</td>\n",
       "      <td>2</td>\n",
       "      <td>0.363478</td>\n",
       "      <td>0.353739</td>\n",
       "      <td>0.696087</td>\n",
       "      <td>0.248539</td>\n",
       "      <td>131</td>\n",
       "      <td>670</td>\n",
       "      <td>801</td>\n",
       "    </tr>\n",
       "    <tr>\n",
       "      <td>2</td>\n",
       "      <td>3</td>\n",
       "      <td>2011-01-03</td>\n",
       "      <td>1</td>\n",
       "      <td>0</td>\n",
       "      <td>1</td>\n",
       "      <td>0</td>\n",
       "      <td>1</td>\n",
       "      <td>1</td>\n",
       "      <td>1</td>\n",
       "      <td>0.196364</td>\n",
       "      <td>0.189405</td>\n",
       "      <td>0.437273</td>\n",
       "      <td>0.248309</td>\n",
       "      <td>120</td>\n",
       "      <td>1229</td>\n",
       "      <td>1349</td>\n",
       "    </tr>\n",
       "    <tr>\n",
       "      <td>3</td>\n",
       "      <td>4</td>\n",
       "      <td>2011-01-04</td>\n",
       "      <td>1</td>\n",
       "      <td>0</td>\n",
       "      <td>1</td>\n",
       "      <td>0</td>\n",
       "      <td>2</td>\n",
       "      <td>1</td>\n",
       "      <td>1</td>\n",
       "      <td>0.200000</td>\n",
       "      <td>0.212122</td>\n",
       "      <td>0.590435</td>\n",
       "      <td>0.160296</td>\n",
       "      <td>108</td>\n",
       "      <td>1454</td>\n",
       "      <td>1562</td>\n",
       "    </tr>\n",
       "    <tr>\n",
       "      <td>4</td>\n",
       "      <td>5</td>\n",
       "      <td>2011-01-05</td>\n",
       "      <td>1</td>\n",
       "      <td>0</td>\n",
       "      <td>1</td>\n",
       "      <td>0</td>\n",
       "      <td>3</td>\n",
       "      <td>1</td>\n",
       "      <td>1</td>\n",
       "      <td>0.226957</td>\n",
       "      <td>0.229270</td>\n",
       "      <td>0.436957</td>\n",
       "      <td>0.186900</td>\n",
       "      <td>82</td>\n",
       "      <td>1518</td>\n",
       "      <td>1600</td>\n",
       "    </tr>\n",
       "  </tbody>\n",
       "</table>\n",
       "</div>"
      ],
      "text/plain": [
       "   rec_id   datetime season year month holiday weekday workingday  \\\n",
       "0       1 2011-01-01      1    0     1       0       6          0   \n",
       "1       2 2011-01-02      1    0     1       0       0          0   \n",
       "2       3 2011-01-03      1    0     1       0       1          1   \n",
       "3       4 2011-01-04      1    0     1       0       2          1   \n",
       "4       5 2011-01-05      1    0     1       0       3          1   \n",
       "\n",
       "  weather_condition      temp     atemp  humidity  windspeed  casual  \\\n",
       "0                 2  0.344167  0.363625  0.805833   0.160446     331   \n",
       "1                 2  0.363478  0.353739  0.696087   0.248539     131   \n",
       "2                 1  0.196364  0.189405  0.437273   0.248309     120   \n",
       "3                 1  0.200000  0.212122  0.590435   0.160296     108   \n",
       "4                 1  0.226957  0.229270  0.436957   0.186900      82   \n",
       "\n",
       "   registered  total_count  \n",
       "0         654          985  \n",
       "1         670          801  \n",
       "2        1229         1349  \n",
       "3        1454         1562  \n",
       "4        1518         1600  "
      ]
     },
     "execution_count": 70,
     "metadata": {},
     "output_type": "execute_result"
    }
   ],
   "source": [
    "data.head(5)"
   ]
  },
  {
   "cell_type": "code",
   "execution_count": 71,
   "metadata": {},
   "outputs": [
    {
     "data": {
      "text/plain": [
       "rec_id                        int64\n",
       "datetime             datetime64[ns]\n",
       "season                     category\n",
       "year                       category\n",
       "month                      category\n",
       "holiday                    category\n",
       "weekday                    category\n",
       "workingday                 category\n",
       "weather_condition          category\n",
       "temp                        float64\n",
       "atemp                       float64\n",
       "humidity                    float64\n",
       "windspeed                   float64\n",
       "casual                        int64\n",
       "registered                    int64\n",
       "total_count                   int64\n",
       "dtype: object"
      ]
     },
     "execution_count": 71,
     "metadata": {},
     "output_type": "execute_result"
    }
   ],
   "source": [
    "data.dtypes"
   ]
  },
  {
   "cell_type": "code",
   "execution_count": 72,
   "metadata": {},
   "outputs": [
    {
     "data": {
      "text/html": [
       "<div>\n",
       "<style scoped>\n",
       "    .dataframe tbody tr th:only-of-type {\n",
       "        vertical-align: middle;\n",
       "    }\n",
       "\n",
       "    .dataframe tbody tr th {\n",
       "        vertical-align: top;\n",
       "    }\n",
       "\n",
       "    .dataframe thead th {\n",
       "        text-align: right;\n",
       "    }\n",
       "</style>\n",
       "<table border=\"1\" class=\"dataframe\">\n",
       "  <thead>\n",
       "    <tr style=\"text-align: right;\">\n",
       "      <th></th>\n",
       "      <th>rec_id</th>\n",
       "      <th>temp</th>\n",
       "      <th>atemp</th>\n",
       "      <th>humidity</th>\n",
       "      <th>windspeed</th>\n",
       "      <th>casual</th>\n",
       "      <th>registered</th>\n",
       "      <th>total_count</th>\n",
       "    </tr>\n",
       "  </thead>\n",
       "  <tbody>\n",
       "    <tr>\n",
       "      <td>count</td>\n",
       "      <td>731.000000</td>\n",
       "      <td>731.000000</td>\n",
       "      <td>731.000000</td>\n",
       "      <td>731.000000</td>\n",
       "      <td>731.000000</td>\n",
       "      <td>731.000000</td>\n",
       "      <td>731.000000</td>\n",
       "      <td>731.000000</td>\n",
       "    </tr>\n",
       "    <tr>\n",
       "      <td>mean</td>\n",
       "      <td>366.000000</td>\n",
       "      <td>0.495385</td>\n",
       "      <td>0.474354</td>\n",
       "      <td>0.627894</td>\n",
       "      <td>0.190486</td>\n",
       "      <td>848.176471</td>\n",
       "      <td>3656.172367</td>\n",
       "      <td>4504.348837</td>\n",
       "    </tr>\n",
       "    <tr>\n",
       "      <td>std</td>\n",
       "      <td>211.165812</td>\n",
       "      <td>0.183051</td>\n",
       "      <td>0.162961</td>\n",
       "      <td>0.142429</td>\n",
       "      <td>0.077498</td>\n",
       "      <td>686.622488</td>\n",
       "      <td>1560.256377</td>\n",
       "      <td>1937.211452</td>\n",
       "    </tr>\n",
       "    <tr>\n",
       "      <td>min</td>\n",
       "      <td>1.000000</td>\n",
       "      <td>0.059130</td>\n",
       "      <td>0.079070</td>\n",
       "      <td>0.000000</td>\n",
       "      <td>0.022392</td>\n",
       "      <td>2.000000</td>\n",
       "      <td>20.000000</td>\n",
       "      <td>22.000000</td>\n",
       "    </tr>\n",
       "    <tr>\n",
       "      <td>25%</td>\n",
       "      <td>183.500000</td>\n",
       "      <td>0.337083</td>\n",
       "      <td>0.337842</td>\n",
       "      <td>0.520000</td>\n",
       "      <td>0.134950</td>\n",
       "      <td>315.500000</td>\n",
       "      <td>2497.000000</td>\n",
       "      <td>3152.000000</td>\n",
       "    </tr>\n",
       "    <tr>\n",
       "      <td>50%</td>\n",
       "      <td>366.000000</td>\n",
       "      <td>0.498333</td>\n",
       "      <td>0.486733</td>\n",
       "      <td>0.626667</td>\n",
       "      <td>0.180975</td>\n",
       "      <td>713.000000</td>\n",
       "      <td>3662.000000</td>\n",
       "      <td>4548.000000</td>\n",
       "    </tr>\n",
       "    <tr>\n",
       "      <td>75%</td>\n",
       "      <td>548.500000</td>\n",
       "      <td>0.655417</td>\n",
       "      <td>0.608602</td>\n",
       "      <td>0.730209</td>\n",
       "      <td>0.233214</td>\n",
       "      <td>1096.000000</td>\n",
       "      <td>4776.500000</td>\n",
       "      <td>5956.000000</td>\n",
       "    </tr>\n",
       "    <tr>\n",
       "      <td>max</td>\n",
       "      <td>731.000000</td>\n",
       "      <td>0.861667</td>\n",
       "      <td>0.840896</td>\n",
       "      <td>0.972500</td>\n",
       "      <td>0.507463</td>\n",
       "      <td>3410.000000</td>\n",
       "      <td>6946.000000</td>\n",
       "      <td>8714.000000</td>\n",
       "    </tr>\n",
       "  </tbody>\n",
       "</table>\n",
       "</div>"
      ],
      "text/plain": [
       "           rec_id        temp       atemp    humidity   windspeed  \\\n",
       "count  731.000000  731.000000  731.000000  731.000000  731.000000   \n",
       "mean   366.000000    0.495385    0.474354    0.627894    0.190486   \n",
       "std    211.165812    0.183051    0.162961    0.142429    0.077498   \n",
       "min      1.000000    0.059130    0.079070    0.000000    0.022392   \n",
       "25%    183.500000    0.337083    0.337842    0.520000    0.134950   \n",
       "50%    366.000000    0.498333    0.486733    0.626667    0.180975   \n",
       "75%    548.500000    0.655417    0.608602    0.730209    0.233214   \n",
       "max    731.000000    0.861667    0.840896    0.972500    0.507463   \n",
       "\n",
       "            casual   registered  total_count  \n",
       "count   731.000000   731.000000   731.000000  \n",
       "mean    848.176471  3656.172367  4504.348837  \n",
       "std     686.622488  1560.256377  1937.211452  \n",
       "min       2.000000    20.000000    22.000000  \n",
       "25%     315.500000  2497.000000  3152.000000  \n",
       "50%     713.000000  3662.000000  4548.000000  \n",
       "75%    1096.000000  4776.500000  5956.000000  \n",
       "max    3410.000000  6946.000000  8714.000000  "
      ]
     },
     "execution_count": 72,
     "metadata": {},
     "output_type": "execute_result"
    }
   ],
   "source": [
    "data.describe()"
   ]
  },
  {
   "cell_type": "code",
   "execution_count": 73,
   "metadata": {},
   "outputs": [
    {
     "data": {
      "text/plain": [
       "rec_id               0\n",
       "datetime             0\n",
       "season               0\n",
       "year                 0\n",
       "month                0\n",
       "holiday              0\n",
       "weekday              0\n",
       "workingday           0\n",
       "weather_condition    0\n",
       "temp                 0\n",
       "atemp                0\n",
       "humidity             0\n",
       "windspeed            0\n",
       "casual               0\n",
       "registered           0\n",
       "total_count          0\n",
       "dtype: int64"
      ]
     },
     "execution_count": 73,
     "metadata": {},
     "output_type": "execute_result"
    }
   ],
   "source": [
    "data.isnull().sum()"
   ]
  },
  {
   "cell_type": "code",
   "execution_count": 74,
   "metadata": {},
   "outputs": [
    {
     "data": {
      "image/png": "[encoded data removed]",
      "text/plain": [
       "<Figure size 1080x576 with 1 Axes>"
      ]
     },
     "metadata": {},
     "output_type": "display_data"
    },
    {
     "data": {
      "text/plain": [
       "Text(0.5, 1.0, 'Weekday wise monthly distribution of counts')"
      ]
     },
     "execution_count": 74,
     "metadata": {},
     "output_type": "execute_result"
    },
    {
     "data": {
      "image/png": "[encoded data removed]",
      "text/plain": [
       "<Figure size 1080x576 with 1 Axes>"
      ]
     },
     "metadata": {},
     "output_type": "display_data"
    }
   ],
   "source": [
    "fig,ax=plt.subplots(figsize=(15,8))\n",
    "sns.set_style('white')\n",
    "#Bar plot for seasonwise monthly distribution of counts\n",
    "sns.barplot(x='month',y='total_count',data=data[['month','total_count','season']],hue='season',ax=ax)\n",
    "ax.set_title('Seasonwise monthly distribution of counts')\n",
    "plt.show()\n",
    "#Bar plot for weekday wise monthly distribution of counts\n",
    "fig,ax1=plt.subplots(figsize=(15,8))\n",
    "sns.barplot(x='month',y='total_count',data=data[['month','total_count','weekday']],hue='weekday',ax=ax1)\n",
    "ax1.set_title('Weekday wise monthly distribution of counts')"
   ]
  },
  {
   "cell_type": "code",
   "execution_count": 75,
   "metadata": {},
   "outputs": [
    {
     "data": {
      "image/png": "[encoded data removed]",
      "text/plain": [
       "<Figure size 360x360 with 1 Axes>"
      ]
     },
     "metadata": {},
     "output_type": "display_data"
    }
   ],
   "source": [
    "\n",
    "sns.catplot(x='year',y='total_count',data=data[['year','total_count']])\n",
    "plt.show()"
   ]
  },
  {
   "cell_type": "code",
   "execution_count": 19,
   "metadata": {},
   "outputs": [
    {
     "data": {
      "image/png": "[encoded data removed]",
      "text/plain": [
       "<Figure size 1080x576 with 1 Axes>"
      ]
     },
     "metadata": {},
     "output_type": "display_data"
    }
   ],
   "source": [
    "fig,ax=plt.subplots(figsize=(15,8))\n",
    "sns.barplot(data=data,x='holiday',y='total_count',hue='season')\n",
    "ax.set_title('Holiday wise distribution of counts')\n",
    "plt.show()"
   ]
  },
  {
   "cell_type": "code",
   "execution_count": 77,
   "metadata": {},
   "outputs": [
    {
     "data": {
      "image/png": "[encoded data removed]",
      "text/plain": [
       "<Figure size 1080x576 with 1 Axes>"
      ]
     },
     "metadata": {},
     "output_type": "display_data"
    }
   ],
   "source": [
    "fig,ax=plt.subplots(figsize=(15,8))\n",
    "#Bar plot for workingday distribution of counts\n",
    "sns.barplot(data=data,x='workingday',y='total_count',hue='season')\n",
    "ax.set_title('Workingday wise distribution of counts')\n",
    "plt.show()"
   ]
  },
  {
   "cell_type": "code",
   "execution_count": 78,
   "metadata": {},
   "outputs": [
    {
     "data": {
      "image/png": "[encoded data removed]",
      "text/plain": [
       "<Figure size 1080x576 with 1 Axes>"
      ]
     },
     "metadata": {},
     "output_type": "display_data"
    }
   ],
   "source": [
    "fig,ax1=plt.subplots(figsize=(15,8))\n",
    "#Bar plot for weather_condition distribution of counts\n",
    "sns.barplot(x='weather_condition',y='total_count',data=data[['month','total_count','weather_condition']],ax=ax1)\n",
    "ax1.set_title('Weather_condition wise monthly distribution of counts')\n",
    "plt.show()"
   ]
  },
  {
   "cell_type": "code",
   "execution_count": 79,
   "metadata": {},
   "outputs": [
    {
     "data": {
      "image/png": "[encoded data removed]",
      "text/plain": [
       "<Figure size 1080x576 with 1 Axes>"
      ]
     },
     "metadata": {},
     "output_type": "display_data"
    }
   ],
   "source": [
    "fig,ax=plt.subplots(figsize=(15,8))\n",
    "#Boxplot for total_count outliers\n",
    "sns.boxplot(data=data[['total_count']])\n",
    "ax.set_title('total_count outliers')\n",
    "plt.show()"
   ]
  },
  {
   "cell_type": "code",
   "execution_count": 80,
   "metadata": {},
   "outputs": [
    {
     "data": {
      "image/png": "[encoded data removed]",
      "text/plain": [
       "<Figure size 1080x576 with 1 Axes>"
      ]
     },
     "metadata": {},
     "output_type": "display_data"
    }
   ],
   "source": [
    "fig,ax=plt.subplots(figsize=(15,8))\n",
    "#Box plot for Temp_windspeed_humidity_outliers\n",
    "sns.boxplot(data=data[['temp','windspeed','humidity']])\n",
    "ax.set_title('Temp,windspeed and humidity outiers')\n",
    "plt.show()"
   ]
  },
  {
   "cell_type": "code",
   "execution_count": 83,
   "metadata": {},
   "outputs": [
    {
     "name": "stdout",
     "output_type": "stream",
     "text": [
      "windspeed\n",
      "-0.012446750000000034\n",
      "0.38061125\n",
      "humidity\n",
      "0.20635349999999997\n",
      "1.0455215\n"
     ]
    }
   ],
   "source": [
    "# # create a dataframe for outlier \n",
    "wind_humidity=pd.DataFrame(data,columns=['windspeed','humidity'])\n",
    " #Cnames for outliers                     \n",
    "cnames=['windspeed','humidity']  \n",
    "for i in cnames:\n",
    "    print(i)\n",
    "    q75, q25 = np.percentile(wind_humidity.loc[:,i], [75 ,25])\n",
    "    iqr = q75 - q25\n",
    "    min = q25 - (iqr*1.5)\n",
    "    max = q75 + (iqr*1.5)\n",
    "    print(min)\n",
    "    print(max)\n",
    "    wind_humidity.loc[wind_humidity.loc[:,i]<min,:i]=np.nan  #Replace with NA\n",
    "    wind_humidity.loc[wind_humidity.loc[:,i]>max,:i]=np.nan  #Replace with NA"
   ]
  },
  {
   "cell_type": "code",
   "execution_count": 84,
   "metadata": {},
   "outputs": [
    {
     "data": {
      "text/html": [
       "<div>\n",
       "<style scoped>\n",
       "    .dataframe tbody tr th:only-of-type {\n",
       "        vertical-align: middle;\n",
       "    }\n",
       "\n",
       "    .dataframe tbody tr th {\n",
       "        vertical-align: top;\n",
       "    }\n",
       "\n",
       "    .dataframe thead th {\n",
       "        text-align: right;\n",
       "    }\n",
       "</style>\n",
       "<table border=\"1\" class=\"dataframe\">\n",
       "  <thead>\n",
       "    <tr style=\"text-align: right;\">\n",
       "      <th></th>\n",
       "      <th>windspeed</th>\n",
       "      <th>humidity</th>\n",
       "    </tr>\n",
       "  </thead>\n",
       "  <tbody>\n",
       "    <tr>\n",
       "      <td>0</td>\n",
       "      <td>0.160446</td>\n",
       "      <td>0.805833</td>\n",
       "    </tr>\n",
       "    <tr>\n",
       "      <td>1</td>\n",
       "      <td>0.248539</td>\n",
       "      <td>0.696087</td>\n",
       "    </tr>\n",
       "    <tr>\n",
       "      <td>2</td>\n",
       "      <td>0.248309</td>\n",
       "      <td>0.437273</td>\n",
       "    </tr>\n",
       "    <tr>\n",
       "      <td>3</td>\n",
       "      <td>0.160296</td>\n",
       "      <td>0.590435</td>\n",
       "    </tr>\n",
       "    <tr>\n",
       "      <td>4</td>\n",
       "      <td>0.186900</td>\n",
       "      <td>0.436957</td>\n",
       "    </tr>\n",
       "    <tr>\n",
       "      <td>5</td>\n",
       "      <td>0.089565</td>\n",
       "      <td>0.518261</td>\n",
       "    </tr>\n",
       "    <tr>\n",
       "      <td>6</td>\n",
       "      <td>0.168726</td>\n",
       "      <td>0.498696</td>\n",
       "    </tr>\n",
       "    <tr>\n",
       "      <td>7</td>\n",
       "      <td>0.266804</td>\n",
       "      <td>0.535833</td>\n",
       "    </tr>\n",
       "    <tr>\n",
       "      <td>8</td>\n",
       "      <td>0.361950</td>\n",
       "      <td>0.434167</td>\n",
       "    </tr>\n",
       "    <tr>\n",
       "      <td>9</td>\n",
       "      <td>0.223267</td>\n",
       "      <td>0.482917</td>\n",
       "    </tr>\n",
       "  </tbody>\n",
       "</table>\n",
       "</div>"
      ],
      "text/plain": [
       "   windspeed  humidity\n",
       "0   0.160446  0.805833\n",
       "1   0.248539  0.696087\n",
       "2   0.248309  0.437273\n",
       "3   0.160296  0.590435\n",
       "4   0.186900  0.436957\n",
       "5   0.089565  0.518261\n",
       "6   0.168726  0.498696\n",
       "7   0.266804  0.535833\n",
       "8   0.361950  0.434167\n",
       "9   0.223267  0.482917"
      ]
     },
     "execution_count": 84,
     "metadata": {},
     "output_type": "execute_result"
    }
   ],
   "source": [
    "wind_humidity.head(10)"
   ]
  },
  {
   "cell_type": "code",
   "execution_count": 85,
   "metadata": {},
   "outputs": [
    {
     "data": {
      "text/plain": [
       "windspeed    13\n",
       "humidity      1\n",
       "dtype: int64"
      ]
     },
     "execution_count": 85,
     "metadata": {},
     "output_type": "execute_result"
    }
   ],
   "source": [
    "wind_humidity.isnull().sum()"
   ]
  },
  {
   "cell_type": "code",
   "execution_count": 86,
   "metadata": {},
   "outputs": [
    {
     "data": {
      "text/html": [
       "<div>\n",
       "<style scoped>\n",
       "    .dataframe tbody tr th:only-of-type {\n",
       "        vertical-align: middle;\n",
       "    }\n",
       "\n",
       "    .dataframe tbody tr th {\n",
       "        vertical-align: top;\n",
       "    }\n",
       "\n",
       "    .dataframe thead th {\n",
       "        text-align: right;\n",
       "    }\n",
       "</style>\n",
       "<table border=\"1\" class=\"dataframe\">\n",
       "  <thead>\n",
       "    <tr style=\"text-align: right;\">\n",
       "      <th></th>\n",
       "      <th>windspeed</th>\n",
       "      <th>humidity</th>\n",
       "    </tr>\n",
       "  </thead>\n",
       "  <tbody>\n",
       "    <tr>\n",
       "      <td>count</td>\n",
       "      <td>718.000000</td>\n",
       "      <td>730.000000</td>\n",
       "    </tr>\n",
       "    <tr>\n",
       "      <td>mean</td>\n",
       "      <td>0.186392</td>\n",
       "      <td>0.629601</td>\n",
       "    </tr>\n",
       "    <tr>\n",
       "      <td>std</td>\n",
       "      <td>0.071791</td>\n",
       "      <td>0.139814</td>\n",
       "    </tr>\n",
       "    <tr>\n",
       "      <td>min</td>\n",
       "      <td>0.022392</td>\n",
       "      <td>0.254167</td>\n",
       "    </tr>\n",
       "    <tr>\n",
       "      <td>25%</td>\n",
       "      <td>0.134331</td>\n",
       "      <td>0.522187</td>\n",
       "    </tr>\n",
       "    <tr>\n",
       "      <td>50%</td>\n",
       "      <td>0.178802</td>\n",
       "      <td>0.628333</td>\n",
       "    </tr>\n",
       "    <tr>\n",
       "      <td>75%</td>\n",
       "      <td>0.230724</td>\n",
       "      <td>0.731042</td>\n",
       "    </tr>\n",
       "    <tr>\n",
       "      <td>max</td>\n",
       "      <td>0.378108</td>\n",
       "      <td>0.972500</td>\n",
       "    </tr>\n",
       "  </tbody>\n",
       "</table>\n",
       "</div>"
      ],
      "text/plain": [
       "        windspeed    humidity\n",
       "count  718.000000  730.000000\n",
       "mean     0.186392    0.629601\n",
       "std      0.071791    0.139814\n",
       "min      0.022392    0.254167\n",
       "25%      0.134331    0.522187\n",
       "50%      0.178802    0.628333\n",
       "75%      0.230724    0.731042\n",
       "max      0.378108    0.972500"
      ]
     },
     "execution_count": 86,
     "metadata": {},
     "output_type": "execute_result"
    }
   ],
   "source": [
    "wind_humidity.describe()"
   ]
  },
  {
   "cell_type": "code",
   "execution_count": 87,
   "metadata": {},
   "outputs": [],
   "source": [
    "wind_humidity['windspeed']=wind_humidity['windspeed'].fillna(wind_humidity['windspeed'].mean())\n",
    "wind_humidity['humidity']=wind_humidity['humidity'].fillna(wind_humidity['humidity'].mean())"
   ]
  },
  {
   "cell_type": "code",
   "execution_count": 88,
   "metadata": {},
   "outputs": [
    {
     "data": {
      "text/plain": [
       "windspeed    0\n",
       "humidity     0\n",
       "dtype: int64"
      ]
     },
     "execution_count": 88,
     "metadata": {},
     "output_type": "execute_result"
    }
   ],
   "source": [
    "wind_humidity.isnull().sum()"
   ]
  },
  {
   "cell_type": "code",
   "execution_count": 89,
   "metadata": {},
   "outputs": [
    {
     "data": {
      "text/html": [
       "<div>\n",
       "<style scoped>\n",
       "    .dataframe tbody tr th:only-of-type {\n",
       "        vertical-align: middle;\n",
       "    }\n",
       "\n",
       "    .dataframe tbody tr th {\n",
       "        vertical-align: top;\n",
       "    }\n",
       "\n",
       "    .dataframe thead th {\n",
       "        text-align: right;\n",
       "    }\n",
       "</style>\n",
       "<table border=\"1\" class=\"dataframe\">\n",
       "  <thead>\n",
       "    <tr style=\"text-align: right;\">\n",
       "      <th></th>\n",
       "      <th>rec_id</th>\n",
       "      <th>datetime</th>\n",
       "      <th>season</th>\n",
       "      <th>year</th>\n",
       "      <th>month</th>\n",
       "      <th>holiday</th>\n",
       "      <th>weekday</th>\n",
       "      <th>workingday</th>\n",
       "      <th>weather_condition</th>\n",
       "      <th>temp</th>\n",
       "      <th>atemp</th>\n",
       "      <th>humidity</th>\n",
       "      <th>windspeed</th>\n",
       "      <th>casual</th>\n",
       "      <th>registered</th>\n",
       "      <th>total_count</th>\n",
       "    </tr>\n",
       "  </thead>\n",
       "  <tbody>\n",
       "    <tr>\n",
       "      <td>0</td>\n",
       "      <td>1</td>\n",
       "      <td>2011-01-01</td>\n",
       "      <td>1</td>\n",
       "      <td>0</td>\n",
       "      <td>1</td>\n",
       "      <td>0</td>\n",
       "      <td>6</td>\n",
       "      <td>0</td>\n",
       "      <td>2</td>\n",
       "      <td>0.344167</td>\n",
       "      <td>0.363625</td>\n",
       "      <td>0.805833</td>\n",
       "      <td>0.160446</td>\n",
       "      <td>331</td>\n",
       "      <td>654</td>\n",
       "      <td>985</td>\n",
       "    </tr>\n",
       "    <tr>\n",
       "      <td>1</td>\n",
       "      <td>2</td>\n",
       "      <td>2011-01-02</td>\n",
       "      <td>1</td>\n",
       "      <td>0</td>\n",
       "      <td>1</td>\n",
       "      <td>0</td>\n",
       "      <td>0</td>\n",
       "      <td>0</td>\n",
       "      <td>2</td>\n",
       "      <td>0.363478</td>\n",
       "      <td>0.353739</td>\n",
       "      <td>0.696087</td>\n",
       "      <td>0.248539</td>\n",
       "      <td>131</td>\n",
       "      <td>670</td>\n",
       "      <td>801</td>\n",
       "    </tr>\n",
       "    <tr>\n",
       "      <td>2</td>\n",
       "      <td>3</td>\n",
       "      <td>2011-01-03</td>\n",
       "      <td>1</td>\n",
       "      <td>0</td>\n",
       "      <td>1</td>\n",
       "      <td>0</td>\n",
       "      <td>1</td>\n",
       "      <td>1</td>\n",
       "      <td>1</td>\n",
       "      <td>0.196364</td>\n",
       "      <td>0.189405</td>\n",
       "      <td>0.437273</td>\n",
       "      <td>0.248309</td>\n",
       "      <td>120</td>\n",
       "      <td>1229</td>\n",
       "      <td>1349</td>\n",
       "    </tr>\n",
       "    <tr>\n",
       "      <td>3</td>\n",
       "      <td>4</td>\n",
       "      <td>2011-01-04</td>\n",
       "      <td>1</td>\n",
       "      <td>0</td>\n",
       "      <td>1</td>\n",
       "      <td>0</td>\n",
       "      <td>2</td>\n",
       "      <td>1</td>\n",
       "      <td>1</td>\n",
       "      <td>0.200000</td>\n",
       "      <td>0.212122</td>\n",
       "      <td>0.590435</td>\n",
       "      <td>0.160296</td>\n",
       "      <td>108</td>\n",
       "      <td>1454</td>\n",
       "      <td>1562</td>\n",
       "    </tr>\n",
       "    <tr>\n",
       "      <td>4</td>\n",
       "      <td>5</td>\n",
       "      <td>2011-01-05</td>\n",
       "      <td>1</td>\n",
       "      <td>0</td>\n",
       "      <td>1</td>\n",
       "      <td>0</td>\n",
       "      <td>3</td>\n",
       "      <td>1</td>\n",
       "      <td>1</td>\n",
       "      <td>0.226957</td>\n",
       "      <td>0.229270</td>\n",
       "      <td>0.436957</td>\n",
       "      <td>0.186900</td>\n",
       "      <td>82</td>\n",
       "      <td>1518</td>\n",
       "      <td>1600</td>\n",
       "    </tr>\n",
       "  </tbody>\n",
       "</table>\n",
       "</div>"
      ],
      "text/plain": [
       "   rec_id   datetime season year month holiday weekday workingday  \\\n",
       "0       1 2011-01-01      1    0     1       0       6          0   \n",
       "1       2 2011-01-02      1    0     1       0       0          0   \n",
       "2       3 2011-01-03      1    0     1       0       1          1   \n",
       "3       4 2011-01-04      1    0     1       0       2          1   \n",
       "4       5 2011-01-05      1    0     1       0       3          1   \n",
       "\n",
       "  weather_condition      temp     atemp  humidity  windspeed  casual  \\\n",
       "0                 2  0.344167  0.363625  0.805833   0.160446     331   \n",
       "1                 2  0.363478  0.353739  0.696087   0.248539     131   \n",
       "2                 1  0.196364  0.189405  0.437273   0.248309     120   \n",
       "3                 1  0.200000  0.212122  0.590435   0.160296     108   \n",
       "4                 1  0.226957  0.229270  0.436957   0.186900      82   \n",
       "\n",
       "   registered  total_count  \n",
       "0         654          985  \n",
       "1         670          801  \n",
       "2        1229         1349  \n",
       "3        1454         1562  \n",
       "4        1518         1600  "
      ]
     },
     "execution_count": 89,
     "metadata": {},
     "output_type": "execute_result"
    }
   ],
   "source": [
    "#Replacing the imputated windspeed\n",
    "data['windspeed']=data['windspeed'].replace(wind_humidity['windspeed'])\n",
    "#Replacing the imputated humidity\n",
    "data['humidity']=df['humidity'].replace(wind_humidity['humidity'])\n",
    "data.head(5)"
   ]
  },
  {
   "cell_type": "code",
   "execution_count": 90,
   "metadata": {},
   "outputs": [
    {
     "data": {
      "image/png": "[encoded data removed]",
      "text/plain": [
       "<Figure size 1080x576 with 2 Axes>"
      ]
     },
     "metadata": {},
     "output_type": "display_data"
    }
   ],
   "source": [
    "#we plot a correlation between numerical variable \n",
    "df_corr=data.loc[:,[\"temp\",\"atemp\",\"humidity\",\"windspeed\",\"casual\",\"registered\",\"total_count\"]]\n",
    "#Generate correlation matrix\n",
    "corr = df_corr.corr()\n",
    "\n",
    "mask=np.array(corr)\n",
    "mask[np.tril_indices_from(mask)]=False\n",
    "#Plot using seaborn library\n",
    "fig,ax=plt.subplots(figsize=(15,8))\n",
    "sns.heatmap(corr,mask=mask,vmax=0.8,square=True,annot=True,ax=ax)\n",
    "ax.set_title('Correlation matrix')\n",
    "plt.show()\n"
   ]
  },
  {
   "cell_type": "markdown",
   "metadata": {},
   "source": [
    "# from correlation plot atemp and temp, casual and registered is having same information "
   ]
  },
  {
   "cell_type": "code",
   "execution_count": 91,
   "metadata": {},
   "outputs": [
    {
     "name": "stdout",
     "output_type": "stream",
     "text": [
      "(511, 14) (220, 14) (511, 2) (220, 2)\n",
      "X Train data: \n",
      "    index  rec_id   datetime season year month holiday weekday workingday  \\\n",
      "0    223     224 2011-08-12      3    0     8       0       5          1   \n",
      "1    684     685 2012-11-15      4    1    11       0       4          1   \n",
      "2    685     686 2012-11-16      4    1    11       0       5          1   \n",
      "3    163     164 2011-06-13      2    0     6       0       1          1   \n",
      "4    394     395 2012-01-30      1    1     1       0       1          1   \n",
      "\n",
      "  weather_condition      temp     atemp  humidity  windspeed  \n",
      "0                 1  0.708333  0.654042  0.415000   0.125621  \n",
      "1                 2  0.321667  0.324492  0.620417   0.152987  \n",
      "2                 1  0.345000  0.347204  0.524583   0.171025  \n",
      "3                 1  0.635000  0.601654  0.494583   0.305350  \n",
      "4                 1  0.269167  0.262625  0.400833   0.215792  \n",
      "X Test data \n",
      "    index  rec_id   datetime season year month holiday weekday workingday  \\\n",
      "0    703     704 2012-12-04      4    1    12       0       2          1   \n",
      "1     33      34 2011-02-03      1    0     2       0       4          1   \n",
      "2    300     301 2011-10-28      4    0    10       0       5          1   \n",
      "3    456     457 2012-04-01      2    1     4       0       0          0   \n",
      "4    633     634 2012-09-25      4    1     9       0       2          1   \n",
      "\n",
      "  weather_condition      temp     atemp  humidity  windspeed  \n",
      "0                 1  0.475833  0.469054  0.733750   0.174129  \n",
      "1                 1  0.186957  0.177878  0.437826   0.277752  \n",
      "2                 2  0.330833  0.318812  0.585833   0.229479  \n",
      "3                 2  0.425833  0.417287  0.676250   0.172267  \n",
      "4                 1  0.550000  0.544179  0.570000   0.236321  \n",
      "Y train data \n",
      "    index  total_count\n",
      "0    223         4905\n",
      "1    684         5445\n",
      "2    685         5698\n",
      "3    163         5020\n",
      "4    394         3624\n",
      "Y test data \n",
      "    index  total_count\n",
      "0    703         6606\n",
      "1     33         1550\n",
      "2    300         3747\n",
      "3    456         6041\n",
      "4    633         7538\n"
     ]
    }
   ],
   "source": [
    "#Split the dataset into the train and test data\n",
    "\n",
    "X_train,X_test,y_train,y_test=train_test_split(data.iloc[:,0:-3],df.iloc[:,-1],test_size=0.3, random_state=42)\n",
    "\n",
    "#Reset train index values\n",
    "X_train.reset_index(inplace=True)\n",
    "y_train=y_train.reset_index()\n",
    "\n",
    "# Reset test index values\n",
    "X_test.reset_index(inplace=True)\n",
    "y_test=y_test.reset_index()\n",
    "\n",
    "print(X_train.shape,X_test.shape,y_train.shape,y_test.shape)\n",
    "print(\"X Train data: \\n\",X_train.head())\n",
    "print(\"X Test data \\n\",X_test.head())\n",
    "print(\"Y train data \\n\",y_train.head())\n",
    "print(\"Y test data \\n\",y_test.head())"
   ]
  },
  {
   "cell_type": "code",
   "execution_count": 92,
   "metadata": {},
   "outputs": [],
   "source": [
    "#dataset for train attributes\n",
    "train_attributes=X_train[['season','month','year','weekday','holiday','workingday','weather_condition','humidity','temp','windspeed']]\n",
    "#dataset for test attributes\n",
    "test_attributes=X_test[['season','month','year','weekday','holiday','workingday','humidity','temp','windspeed','weather_condition']]\n",
    "#categorical attributes\n",
    "cat_attributes=['season','holiday','workingday','weather_condition','year']\n",
    "#numerical attributes\n",
    "num_attributes=['temp','windspeed','humidity','month','weekday']"
   ]
  },
  {
   "cell_type": "code",
   "execution_count": 93,
   "metadata": {},
   "outputs": [
    {
     "name": "stdout",
     "output_type": "stream",
     "text": [
      "(511, 10)\n",
      "(220, 10)\n"
     ]
    }
   ],
   "source": [
    "print(train_attributes.shape)\n",
    "print(test_attributes.shape)"
   ]
  },
  {
   "cell_type": "code",
   "execution_count": 94,
   "metadata": {},
   "outputs": [
    {
     "name": "stdout",
     "output_type": "stream",
     "text": [
      "Shape of train new dataframe:: (511, 18)\n",
      "Shape of test new dataframe:: (220, 18)\n"
     ]
    },
    {
     "data": {
      "text/html": [
       "<div>\n",
       "<style scoped>\n",
       "    .dataframe tbody tr th:only-of-type {\n",
       "        vertical-align: middle;\n",
       "    }\n",
       "\n",
       "    .dataframe tbody tr th {\n",
       "        vertical-align: top;\n",
       "    }\n",
       "\n",
       "    .dataframe thead th {\n",
       "        text-align: right;\n",
       "    }\n",
       "</style>\n",
       "<table border=\"1\" class=\"dataframe\">\n",
       "  <thead>\n",
       "    <tr style=\"text-align: right;\">\n",
       "      <th></th>\n",
       "      <th>month</th>\n",
       "      <th>weekday</th>\n",
       "      <th>humidity</th>\n",
       "      <th>temp</th>\n",
       "      <th>windspeed</th>\n",
       "      <th>season_1</th>\n",
       "      <th>season_2</th>\n",
       "      <th>season_3</th>\n",
       "      <th>season_4</th>\n",
       "      <th>holiday_0</th>\n",
       "      <th>holiday_1</th>\n",
       "      <th>workingday_0</th>\n",
       "      <th>workingday_1</th>\n",
       "      <th>weather_condition_1</th>\n",
       "      <th>weather_condition_2</th>\n",
       "      <th>weather_condition_3</th>\n",
       "      <th>year_0</th>\n",
       "      <th>year_1</th>\n",
       "    </tr>\n",
       "  </thead>\n",
       "  <tbody>\n",
       "    <tr>\n",
       "      <td>0</td>\n",
       "      <td>12</td>\n",
       "      <td>2</td>\n",
       "      <td>0.733750</td>\n",
       "      <td>0.475833</td>\n",
       "      <td>0.174129</td>\n",
       "      <td>0</td>\n",
       "      <td>0</td>\n",
       "      <td>0</td>\n",
       "      <td>1</td>\n",
       "      <td>1</td>\n",
       "      <td>0</td>\n",
       "      <td>0</td>\n",
       "      <td>1</td>\n",
       "      <td>1</td>\n",
       "      <td>0</td>\n",
       "      <td>0</td>\n",
       "      <td>0</td>\n",
       "      <td>1</td>\n",
       "    </tr>\n",
       "    <tr>\n",
       "      <td>1</td>\n",
       "      <td>2</td>\n",
       "      <td>4</td>\n",
       "      <td>0.437826</td>\n",
       "      <td>0.186957</td>\n",
       "      <td>0.277752</td>\n",
       "      <td>1</td>\n",
       "      <td>0</td>\n",
       "      <td>0</td>\n",
       "      <td>0</td>\n",
       "      <td>1</td>\n",
       "      <td>0</td>\n",
       "      <td>0</td>\n",
       "      <td>1</td>\n",
       "      <td>1</td>\n",
       "      <td>0</td>\n",
       "      <td>0</td>\n",
       "      <td>1</td>\n",
       "      <td>0</td>\n",
       "    </tr>\n",
       "    <tr>\n",
       "      <td>2</td>\n",
       "      <td>10</td>\n",
       "      <td>5</td>\n",
       "      <td>0.585833</td>\n",
       "      <td>0.330833</td>\n",
       "      <td>0.229479</td>\n",
       "      <td>0</td>\n",
       "      <td>0</td>\n",
       "      <td>0</td>\n",
       "      <td>1</td>\n",
       "      <td>1</td>\n",
       "      <td>0</td>\n",
       "      <td>0</td>\n",
       "      <td>1</td>\n",
       "      <td>0</td>\n",
       "      <td>1</td>\n",
       "      <td>0</td>\n",
       "      <td>1</td>\n",
       "      <td>0</td>\n",
       "    </tr>\n",
       "    <tr>\n",
       "      <td>3</td>\n",
       "      <td>4</td>\n",
       "      <td>0</td>\n",
       "      <td>0.676250</td>\n",
       "      <td>0.425833</td>\n",
       "      <td>0.172267</td>\n",
       "      <td>0</td>\n",
       "      <td>1</td>\n",
       "      <td>0</td>\n",
       "      <td>0</td>\n",
       "      <td>1</td>\n",
       "      <td>0</td>\n",
       "      <td>1</td>\n",
       "      <td>0</td>\n",
       "      <td>0</td>\n",
       "      <td>1</td>\n",
       "      <td>0</td>\n",
       "      <td>0</td>\n",
       "      <td>1</td>\n",
       "    </tr>\n",
       "    <tr>\n",
       "      <td>4</td>\n",
       "      <td>9</td>\n",
       "      <td>2</td>\n",
       "      <td>0.570000</td>\n",
       "      <td>0.550000</td>\n",
       "      <td>0.236321</td>\n",
       "      <td>0</td>\n",
       "      <td>0</td>\n",
       "      <td>0</td>\n",
       "      <td>1</td>\n",
       "      <td>1</td>\n",
       "      <td>0</td>\n",
       "      <td>0</td>\n",
       "      <td>1</td>\n",
       "      <td>1</td>\n",
       "      <td>0</td>\n",
       "      <td>0</td>\n",
       "      <td>0</td>\n",
       "      <td>1</td>\n",
       "    </tr>\n",
       "  </tbody>\n",
       "</table>\n",
       "</div>"
      ],
      "text/plain": [
       "  month weekday  humidity      temp  windspeed  season_1  season_2  season_3  \\\n",
       "0    12       2  0.733750  0.475833   0.174129         0         0         0   \n",
       "1     2       4  0.437826  0.186957   0.277752         1         0         0   \n",
       "2    10       5  0.585833  0.330833   0.229479         0         0         0   \n",
       "3     4       0  0.676250  0.425833   0.172267         0         1         0   \n",
       "4     9       2  0.570000  0.550000   0.236321         0         0         0   \n",
       "\n",
       "   season_4  holiday_0  holiday_1  workingday_0  workingday_1  \\\n",
       "0         1          1          0             0             1   \n",
       "1         0          1          0             0             1   \n",
       "2         1          1          0             0             1   \n",
       "3         0          1          0             1             0   \n",
       "4         1          1          0             0             1   \n",
       "\n",
       "   weather_condition_1  weather_condition_2  weather_condition_3  year_0  \\\n",
       "0                    1                    0                    0       0   \n",
       "1                    1                    0                    0       1   \n",
       "2                    0                    1                    0       1   \n",
       "3                    0                    1                    0       0   \n",
       "4                    1                    0                    0       0   \n",
       "\n",
       "   year_1  \n",
       "0       1  \n",
       "1       0  \n",
       "2       0  \n",
       "3       1  \n",
       "4       1  "
      ]
     },
     "execution_count": 94,
     "metadata": {},
     "output_type": "execute_result"
    }
   ],
   "source": [
    "#To get dummy variables to encode the categorical features to numeric\n",
    "train_encoded_attributes=pd.get_dummies(train_attributes,columns=cat_attributes)\n",
    "test_encoded_attributes=pd.get_dummies(test_attributes,columns=cat_attributes)\n",
    "print('Shape of train new dataframe::',train_encoded_attributes.shape)\n",
    "print('Shape of test new dataframe::',test_encoded_attributes.shape)\n",
    "train_encoded_attributes.head(5)\n",
    "test_encoded_attributes.head(5)"
   ]
  },
  {
   "cell_type": "code",
   "execution_count": 95,
   "metadata": {},
   "outputs": [],
   "source": [
    "#Training dataset for modelling\n",
    "X_train=train_encoded_attributes\n",
    "y_train=y_train.total_count.values\n",
    "#Test dataset for prediction\n",
    "X_test=test_encoded_attributes\n",
    "y_test=y_test.total_count.values"
   ]
  },
  {
   "cell_type": "code",
   "execution_count": 96,
   "metadata": {},
   "outputs": [
    {
     "name": "stdout",
     "output_type": "stream",
     "text": [
      "[4905 5445 5698 5020 3624 7572 6883 4075 4521 3727 5936 3126 4073 7509\n",
      " 4334 7461 4308 3249  959 1685 4672 3243 5986 5315 6883 5531 2732 3922\n",
      " 1162 5805 1098 1589 1472 2056 4844 5255 6778 4154 4648 6133 7132 4708\n",
      " 7852 6073 3659 4187 1204 3423 4785 5464 2765 4127 7421 3523 5511 2935\n",
      " 1321 1996  986 4780 4220 3786 3777 5810 3285 8362 3115 2914 3376 4322\n",
      " 2416 6043 6544 3068 5312 2744 3214 4826  623 3194 4040 4839 3542 1536\n",
      " 7767 4058 4608 7375 4570 1115  985 1787 2302 7415 5786 4765 3872 4694\n",
      " 3577 2999 2918 4195 4717 4978 3333 5740 7058 7702 4630 6855 4046 4035\n",
      " 2115 4539 5538 2729 6034 3429 1851  920 5382 3348 4579 5875 7363 7591\n",
      " 5225 4068 8173 4509 6234 4098 4433 6299 7733 4665 3214 5102 4339 3623\n",
      " 7693 3392 3750 5107 4274 4660 4378 3053 1927 4507 7605 4109 6536 1406\n",
      " 4186 2660  506 6879 4744 1530 7446 4484 3894 5572 5202 5342 4714 7641\n",
      " 3322 5217 4191 3228 4790 1317 6824 2402 6572 4792 5409  683 5847 3663\n",
      " 4763 1749  441 4881 5170 3510 4773 1795 5515  627 1027 5905 5566 7639\n",
      " 7965 5633 1606 4585 1815 6871 6241 4835 1000 2927 5008 1096 1562 7424\n",
      " 7112 3717 5138 4563 3141 2913 6857 3820  431 7286 4352 5847 1812 2485\n",
      " 3805 1712 4833 4661 4649 3598 4098 5892 5202 7870 4333 7458 5084 8009\n",
      " 8395 2424 7429 5115 5375 7350 7720 1891 5728 5119 6093 2843 4460 3649\n",
      " 4342 7001 2294 3292 8090 4972 4968 6824 6889 1683 4338 6536 7013 3267\n",
      " 3389 3487 7592 6917 2192 4400 1529 5729 5312 1917 3974 2802 4669 4656\n",
      " 6591 7907 7504 6852  822 6140 4359 6784 1623 5698 4917 5046 3669 6207\n",
      " 6598 5099 3641 4687 2689 3982 7261 7691 6421 4758 4679 6825 5035 6227\n",
      " 3709 5169 1607 4629 2633 7804 4492 3959 5302 4985 4304 2947 4451 4649\n",
      " 3387 6312 4940 3129 6392 4803 4375 6597 4459 4326 5047 7273 4459 2425\n",
      " 1977 5582 6770 5010 7836 7030 4036 3873 7393 2376 4758 7105 4486 4169\n",
      " 6639  754 4760 5117 4097 3163 4150 2277 4549 6691 3740 7129 4128 5259\n",
      " 5424 8714 5976 6290 7216 1693 5058 3915 7736 1005 6891 4010 6869 8227\n",
      " 3910 2808 6786 4634 6685 6457 4840 4639 4590 4023 3761 7525 4294 1600\n",
      " 7109 6864 5687 2455 6904 2169 7384 2475 1526 4332 4553 1167 7328 4153\n",
      " 6296 2493 5041 5062 3456 7347 6118 4575 1944 6370 4362 5501 6998  605\n",
      " 1248 4548 1538 6273 2311 4592 4866 1450 3485 4381 3544 6460 6235 1341\n",
      " 4120 3784 4966 6569 3784 6624  795 6591 4270  801 5087 6031 2703 3840\n",
      " 1708 5260 4066 5459 1951 2252 2594 5713 3310 5204 1421 4067 7765 2432\n",
      " 2429 3767 1013 5478 6304 5611 8294 5115 5870 6830 5629 5336 7290 6269\n",
      " 6734 1446 6565 6969 5345  981 2933 6436 4586 4456 4086 1301 4318 6359\n",
      " 3190 3926 7466 4182 7359 2895 3425 2425 6772 3071 3574 4862 4401 6203\n",
      " 1543 5191 2417 3744 3907 4911 2162]\n"
     ]
    }
   ],
   "source": [
    "print(y_train)"
   ]
  },
  {
   "cell_type": "code",
   "execution_count": 97,
   "metadata": {},
   "outputs": [
    {
     "name": "stdout",
     "output_type": "stream",
     "text": [
      "[6606 1550 3747 6041 7538 7264 1605 2209 7499 5743 1796 3068 4891 5260\n",
      " 2133 2471 2046 8156 5362 2298 7697 5463 5409 1872 1807 5130 2121 7436\n",
      " 3830 5557 2743 3644 6196 7494 5918 3372 7582 6053 2566 1263 3944 3956\n",
      " 7580 4906 6966  705 4458 5298 6043 4996 3351 2431 1011 4475 4725 4727\n",
      " 2395 3351 4788 7175 6153 7442 1471 7865 6530 6211 7403 4302 2077 7333\n",
      " 3117 1635 3811 4595 4363 2034 5686 4748 1416 4401 2114 2028 5668   22\n",
      " 3940 4118 5423 1495 3620 3403 1501 7040 5992 4990 3095 2832 4713 2368\n",
      " 3409 4991 7713 3785 6664 2496 2077 5267 1162 2739 6861 1360 4602 7282\n",
      " 3570 8167 6230 4511 1461 3272 5923 2177 6398 1817 3239 1349 3867 5146\n",
      " 4541 3368 2134 7410 3331 3974 5495 5319 5895 2227 4367 7460 1977 4266\n",
      " 4864 1913 2132 4258 2792 5180 3958 4094 1842 3614 4274 7335 4123 4576\n",
      " 1510 3520 4151 6779 2424 4677 6233 4105 4205 5323 1746 3204 6192 1969\n",
      " 3613 4390 7006 7148 1985 3831 4569 5585 4916 5823 4189 1865 1107 7055\n",
      " 7534 5499 7570 8555 7498 2236 5634 1650 7665 3005 4195 5026 2210 1685\n",
      " 3606 1834 1096 5191 4845 6169 5532 5119 4073 2710 8120 2423 7444 6660\n",
      " 7534 3846 5558 3422 5305 2659 7338 6978 4795 3855]\n"
     ]
    }
   ],
   "source": [
    "print(y_test)"
   ]
  },
  {
   "cell_type": "markdown",
   "metadata": {},
   "source": [
    "# Linear Regression"
   ]
  },
  {
   "cell_type": "code",
   "execution_count": 98,
   "metadata": {},
   "outputs": [
    {
     "data": {
      "text/plain": [
       "LinearRegression(copy_X=True, fit_intercept=True, n_jobs=None, normalize=False)"
      ]
     },
     "execution_count": 98,
     "metadata": {},
     "output_type": "execute_result"
    }
   ],
   "source": [
    "from sklearn import preprocessing,metrics,linear_model\n",
    "lr_model=linear_model.LinearRegression()\n",
    "lr_model"
   ]
  },
  {
   "cell_type": "code",
   "execution_count": 99,
   "metadata": {},
   "outputs": [
    {
     "data": {
      "text/plain": [
       "LinearRegression(copy_X=True, fit_intercept=True, n_jobs=None, normalize=False)"
      ]
     },
     "execution_count": 99,
     "metadata": {},
     "output_type": "execute_result"
    }
   ],
   "source": [
    "#fit the trained model\n",
    "lr_model.fit(X_train,y_train)"
   ]
  },
  {
   "cell_type": "code",
   "execution_count": 100,
   "metadata": {},
   "outputs": [
    {
     "name": "stdout",
     "output_type": "stream",
     "text": [
      "Accuracy of the Trainning model  : 0.8165025087335218\n",
      "R-squared Trainning scores : 0.7995611885231044\n"
     ]
    }
   ],
   "source": [
    "#trainnning accuracy \n",
    "lr=lr_model.score(X_train,y_train)\n",
    "print('Accuracy of the Trainning model  :',lr)\n",
    "# R-squared scores\n",
    "r2_scores = cross_val_score(lr_model, X_train, y_train, cv=3)\n",
    "print('R-squared Trainning scores :',np.average(r2_scores))"
   ]
  },
  {
   "cell_type": "code",
   "execution_count": 101,
   "metadata": {},
   "outputs": [
    {
     "data": {
      "text/plain": [
       "array([6197.12329782, 1378.27938018, 3212.82326914, 4825.6058012 ,\n",
       "       6672.2308762 , 6942.2039349 ,  693.99373527, 1929.80808599,\n",
       "       6981.48110092, 6844.67173725, 2798.54559266, 2121.8457389 ,\n",
       "       4465.68268321, 5486.74428544, 2189.59008463, 1827.67433934,\n",
       "       2173.48158771, 7469.58027211, 5500.15015098, 2608.49336522,\n",
       "       6933.20124884, 7837.10306473, 5532.48547104, 1261.13929139,\n",
       "       1245.46616862, 4479.83361908, 2496.61989036, 6733.37234742,\n",
       "       3854.86011528, 5802.97615092, 3103.90712661, 4252.34563973,\n",
       "       6358.26561572, 6798.3144729 , 5790.26253638, 5402.54802544,\n",
       "       6692.75313381, 5848.44121572, 3180.98457936,  805.80292438,\n",
       "       4497.72178336, 3746.59014984, 6903.03554988, 4077.94155535,\n",
       "       6907.0442079 , 1687.7942605 , 4801.49297945, 4723.9530173 ,\n",
       "       6369.39948476, 4579.39869385, 3105.76669461, 2833.81705416,\n",
       "       1829.36260472, 5601.65932265, 4625.78263028, 4089.39223053,\n",
       "       4695.03945324, 3038.41700558, 4351.67190815, 6630.97204226,\n",
       "       5007.66555062, 6211.52165985, 2572.61073169, 6727.88758541,\n",
       "       5796.09437315, 7762.90773745, 6848.64696727, 5190.62123588,\n",
       "       1568.96743527, 6028.87281828, 2665.41755406, 2144.02394304,\n",
       "       3356.69145322, 4353.40079713, 4384.19233197, 3220.04666391,\n",
       "       5367.56812181, 4254.58721895,  975.21150647, 5659.73940054,\n",
       "       2542.36328673, 3038.74147307, 5876.48516455, 3594.33351992,\n",
       "       3872.04817926, 4063.25746702, 4705.32613713, 3433.35702376,\n",
       "       3723.75265946, 3202.25007896,  716.74878819, 6822.6772443 ,\n",
       "       5922.1336808 , 4853.60489474, 3168.84865154, 3283.09921476,\n",
       "       4494.43136912, 2646.85988889, 3579.62018078, 5048.13107672,\n",
       "       7167.72890075, 4459.94922665, 6554.79055037, 3146.38282385,\n",
       "       2763.23899264, 5596.58795283, 1100.06582302, 2681.89739079,\n",
       "       7024.44831216,  931.7924249 , 5242.22711677, 6296.07286006,\n",
       "       3412.38654604, 6368.09697036, 5836.4705248 , 3083.61870855,\n",
       "       1415.60188624, 4087.11303535, 4759.40697845, 3218.82983335,\n",
       "       6242.60331962, 2330.86347702, 3311.10655563, 1322.04061013,\n",
       "       4392.81496374, 5950.26843043, 5247.11394751, 2971.91933085,\n",
       "       1974.54234005, 5824.55761634, 3254.47934616, 4154.21343601,\n",
       "       5429.03531681, 5045.72495513, 4664.37722439, 2456.12493284,\n",
       "       5508.53820275, 6242.89615977, 1492.63312718, 5161.38312791,\n",
       "       4222.70597201, 2077.20117062, 2067.28606131, 5254.4625239 ,\n",
       "       4204.22708213, 4948.47344028, 4358.71910619, 4658.33987624,\n",
       "       2352.32871068, 3730.05612973, 3315.06112536, 6839.13109875,\n",
       "       3398.97627374, 4219.50319085, 1229.91618116, 3392.59441851,\n",
       "       4254.28859819, 6577.22705595, 2567.52616578, 5181.47959436,\n",
       "       5838.0593057 , 3570.65586288, 4169.45563323, 5665.67823593,\n",
       "       1820.98838904, 3611.36777664, 5464.69741703, 1992.28047736,\n",
       "       3393.68748484, 5344.44234153, 6652.89864016, 6950.24737149,\n",
       "       1143.52812882, 3717.27949073, 3750.85288536, 5786.96295345,\n",
       "       4155.22788293, 7407.3069429 , 3850.0428338 , 2249.48384716,\n",
       "        411.8468512 , 6634.73634233, 6647.14716246, 5100.71121053,\n",
       "       6428.14183487, 6800.78631545, 7515.09981544, 2821.43860645,\n",
       "       5461.00521722, 1246.05158275, 6988.15644073, 3684.60033916,\n",
       "       3872.6546868 , 5547.97638368, 3069.41059755, 1667.79984417,\n",
       "       5235.21224286, 3484.21070087, 1355.76205855, 4965.45687472,\n",
       "       5227.10750542, 6367.15036549, 5640.6052632 , 5413.3927817 ,\n",
       "       5050.71637614, 1387.07717617, 6621.11312743, 1712.8884983 ,\n",
       "       6345.47467134, 7420.59721026, 6366.99479484, 5777.8219836 ,\n",
       "       5347.08425113, 3646.57515904, 4699.84250695, 3725.68084445,\n",
       "       7210.65078652, 6311.2008993 , 3792.75548891, 3567.67139852])"
      ]
     },
     "execution_count": 101,
     "metadata": {},
     "output_type": "execute_result"
    }
   ],
   "source": [
    "#predict the model\n",
    "lr_pred=lr_model.predict(X_test)\n",
    "lr_pred"
   ]
  },
  {
   "cell_type": "code",
   "execution_count": 102,
   "metadata": {},
   "outputs": [
    {
     "name": "stdout",
     "output_type": "stream",
     "text": [
      "Root mean square error : 783.0616972625061\n",
      "Mean absolute error : 594.7368430236426\n",
      "Accuracy of the Testing model  : 0.8458932270657586\n"
     ]
    }
   ],
   "source": [
    "import math\n",
    "#Root mean square error \n",
    "rmse=math.sqrt(metrics.mean_squared_error(y_test,lr_pred))\n",
    "#Mean absolute error\n",
    "mae=metrics.mean_absolute_error(y_test,lr_pred)\n",
    "print('Root mean square error :',rmse)\n",
    "print('Mean absolute error :',mae)\n",
    "lr=lr_model.score(X_test,y_test)\n",
    "print('Accuracy of the Testing model  :',lr)"
   ]
  },
  {
   "cell_type": "markdown",
   "metadata": {},
   "source": [
    "# LR \n",
    "testing accuracy : 84 %\n",
    "    RMSE: 783\n",
    "    MAE:594"
   ]
  },
  {
   "cell_type": "markdown",
   "metadata": {},
   "source": [
    "# Decision Tree"
   ]
  },
  {
   "cell_type": "code",
   "execution_count": 103,
   "metadata": {},
   "outputs": [],
   "source": [
    "from sklearn.tree import DecisionTreeRegressor"
   ]
  },
  {
   "cell_type": "code",
   "execution_count": 104,
   "metadata": {},
   "outputs": [],
   "source": [
    "dtr=DecisionTreeRegressor(min_samples_split=2,max_leaf_nodes=10).fit(X_train,y_train)"
   ]
  },
  {
   "cell_type": "code",
   "execution_count": 105,
   "metadata": {},
   "outputs": [
    {
     "name": "stdout",
     "output_type": "stream",
     "text": [
      "Accuracy of Trainning model : 0.8082151777539757\n"
     ]
    }
   ],
   "source": [
    "#Accuracy score of the model\n",
    "dtr_score=dtr.score(X_train,y_train)\n",
    "print('Accuracy of Trainning model :',dtr_score)"
   ]
  },
  {
   "cell_type": "code",
   "execution_count": 106,
   "metadata": {},
   "outputs": [],
   "source": [
    "predictions_DT = dtr.predict(X_test)"
   ]
  },
  {
   "cell_type": "code",
   "execution_count": 107,
   "metadata": {},
   "outputs": [
    {
     "name": "stdout",
     "output_type": "stream",
     "text": [
      "Root mean square error : 925.7976022448886\n",
      "Mean absolute error : 667.8169018859927\n"
     ]
    }
   ],
   "source": [
    "#Root mean square error\n",
    "rmse=math.sqrt(metrics.mean_squared_error(y_test,predictions_DT))\n",
    "#Mean absolute error\n",
    "mae=metrics.mean_absolute_error(y_test,predictions_DT)\n",
    "print('Root mean square error :',rmse)\n",
    "print('Mean absolute error :',mae)"
   ]
  },
  {
   "cell_type": "code",
   "execution_count": 108,
   "metadata": {},
   "outputs": [
    {
     "data": {
      "text/plain": [
       "132.77687359855219"
      ]
     },
     "execution_count": 108,
     "metadata": {},
     "output_type": "execute_result"
    }
   ],
   "source": [
    "def MAPE(y_test, predictions_DT): \n",
    "    mape = np.mean(np.abs((y_test - predictions_DT) / y_test))*100\n",
    "    return mape\n",
    "\n",
    "MAPE(y_test, predictions_DT)\n"
   ]
  },
  {
   "cell_type": "markdown",
   "metadata": {},
   "source": [
    "# DT\n",
    "Testing accuracy \n",
    "MAPE: 132\n",
    "RMSE: 925\n",
    "MAE: 667"
   ]
  },
  {
   "cell_type": "markdown",
   "metadata": {},
   "source": [
    "# Rando Forest"
   ]
  },
  {
   "cell_type": "code",
   "execution_count": 109,
   "metadata": {},
   "outputs": [
    {
     "data": {
      "text/plain": [
       "RandomForestRegressor(bootstrap=True, criterion='mse', max_depth=None,\n",
       "                      max_features='auto', max_leaf_nodes=None,\n",
       "                      min_impurity_decrease=0.0, min_impurity_split=None,\n",
       "                      min_samples_leaf=1, min_samples_split=2,\n",
       "                      min_weight_fraction_leaf=0.0, n_estimators=200,\n",
       "                      n_jobs=None, oob_score=False, random_state=None,\n",
       "                      verbose=0, warm_start=False)"
      ]
     },
     "execution_count": 109,
     "metadata": {},
     "output_type": "execute_result"
    }
   ],
   "source": [
    "\n",
    "#Training the model\n",
    "from sklearn.ensemble import RandomForestRegressor\n",
    "rf=RandomForestRegressor(n_estimators=200)\n",
    "#Fit the trained model\n",
    "rf.fit(X_train,y_train)"
   ]
  },
  {
   "cell_type": "code",
   "execution_count": 110,
   "metadata": {},
   "outputs": [
    {
     "name": "stdout",
     "output_type": "stream",
     "text": [
      "Accuracy of the Training model : 0.9801688210679281\n"
     ]
    }
   ],
   "source": [
    "#accuracy of the model\n",
    "rf_score =rf.score(X_train,y_train)\n",
    "print('Accuracy of the Training model :',rf_score)"
   ]
  },
  {
   "cell_type": "code",
   "execution_count": 111,
   "metadata": {},
   "outputs": [
    {
     "data": {
      "text/plain": [
       "array([6596.19 , 1498.995, 3462.61 , 5358.   , 7480.985, 7244.91 ,\n",
       "       1471.165, 2180.635, 7317.785, 6430.205, 2071.03 , 2831.08 ,\n",
       "       5023.88 , 5058.69 , 2097.2  , 2125.405, 2283.685, 7850.16 ,\n",
       "       5085.33 , 2490.465, 7482.415, 6093.835, 5884.96 , 1740.955,\n",
       "       1707.275, 4726.565, 1970.555, 7245.075, 3194.155, 5756.92 ,\n",
       "       3018.045, 4048.92 , 6558.06 , 7339.02 , 6205.875, 5577.895,\n",
       "       7252.53 , 6272.055, 3253.83 ,  960.4  , 3822.005, 3238.095,\n",
       "       7253.795, 4519.255, 6927.925, 2288.725, 4327.905, 5615.72 ,\n",
       "       6560.115, 4223.9  , 4254.41 , 3002.18 , 2245.65 , 4312.39 ,\n",
       "       4625.845, 4197.795, 3569.72 , 3749.2  , 4296.93 , 6604.52 ,\n",
       "       6177.66 , 6897.4  , 2036.6  , 7355.01 , 6465.785, 6366.355,\n",
       "       5853.505, 4339.445, 1830.39 , 7311.355, 3854.925, 2045.84 ,\n",
       "       3106.45 , 4000.125, 4268.37 , 3855.45 , 4773.38 , 4497.935,\n",
       "       1335.26 , 4324.33 , 2488.285, 1992.82 , 5037.38 , 4268.34 ,\n",
       "       3676.895, 3388.93 , 3910.16 , 3721.63 , 3506.245, 3371.83 ,\n",
       "       1344.35 , 7078.465, 5607.4  , 5783.965, 2632.69 , 1979.03 ,\n",
       "       4787.245, 2860.855, 3209.71 , 4950.255, 7562.47 , 4438.86 ,\n",
       "       6635.24 , 1883.32 , 2401.755, 5206.81 , 2144.59 , 3064.885,\n",
       "       6641.675, 1223.21 , 4421.94 , 6865.92 , 3666.485, 7775.315,\n",
       "       5981.465, 4311.41 , 1678.095, 3082.33 , 5093.98 , 2329.65 ,\n",
       "       6617.88 , 2660.075, 3402.58 , 1444.655, 4469.645, 5036.755,\n",
       "       4156.255, 3241.49 , 2132.7  , 5933.01 , 3691.16 , 3911.34 ,\n",
       "       4916.55 , 5153.475, 4921.88 , 1935.94 , 6162.79 , 6593.625,\n",
       "       1992.16 , 4513.665, 4623.115, 2103.355, 2108.515, 4270.46 ,\n",
       "       3662.04 , 5020.48 , 4454.2  , 4712.195, 2676.045, 3675.535,\n",
       "       4646.755, 7411.385, 4123.02 , 4031.59 , 1517.4  , 3744.59 ,\n",
       "       4001.155, 6756.275, 2771.21 , 4586.475, 6201.24 , 3892.07 ,\n",
       "       3936.41 , 4870.055, 1527.295, 3864.155, 6432.445, 1791.84 ,\n",
       "       3538.31 , 4453.31 , 6985.885, 7300.235, 1520.77 , 3348.2  ,\n",
       "       3842.165, 5819.08 , 3961.695, 6319.735, 3581.65 , 1743.195,\n",
       "       1557.91 , 7298.92 , 7052.525, 5327.96 , 6748.755, 7947.23 ,\n",
       "       7567.715, 2661.19 , 4626.06 , 1404.88 , 7413.87 , 3674.99 ,\n",
       "       4067.21 , 6216.66 , 1965.61 , 1646.22 , 3911.62 , 3981.115,\n",
       "       1024.965, 5023.9  , 4543.28 , 5735.73 , 5183.58 , 5068.835,\n",
       "       5013.68 , 2852.67 , 7369.45 , 1894.72 , 6581.28 , 6487.73 ,\n",
       "       6800.84 , 3813.96 , 5504.835, 2995.08 , 5054.875, 3976.175,\n",
       "       7294.155, 6824.85 , 3520.08 , 3829.69 ])"
      ]
     },
     "execution_count": 111,
     "metadata": {},
     "output_type": "execute_result"
    }
   ],
   "source": [
    "#predict the model\n",
    "X_test=test_encoded_attributes\n",
    "rf_pred=rf.predict(X_test)\n",
    "rf_pred"
   ]
  },
  {
   "cell_type": "code",
   "execution_count": 112,
   "metadata": {},
   "outputs": [
    {
     "name": "stdout",
     "output_type": "stream",
     "text": [
      "Root mean square error : 644.975481060133\n",
      "Mean absolute error : 423.7503863636363\n",
      "MAPE : 100.87551298235822\n"
     ]
    }
   ],
   "source": [
    "#Root mean square error\n",
    "rmse = math.sqrt(metrics.mean_squared_error(y_test,rf_pred))\n",
    "print('Root mean square error :',rmse)\n",
    "#Mean absolute error\n",
    "mae=metrics.mean_absolute_error(y_test,rf_pred)\n",
    "print('Mean absolute error :',mae)\n",
    "\n",
    "mape=MAPE(y_test, rf_pred)\n",
    "print('MAPE :',mape)"
   ]
  },
  {
   "cell_type": "markdown",
   "metadata": {},
   "source": [
    "# RF\n",
    "Root mean square error : 647.4613862743968\n",
    "Mean absolute error : 428.71768181818186\n",
    "MAPE : 103.76256528297543"
   ]
  },
  {
   "cell_type": "code",
   "execution_count": 113,
   "metadata": {},
   "outputs": [
    {
     "data": {
      "text/html": [
       "<div>\n",
       "<style scoped>\n",
       "    .dataframe tbody tr th:only-of-type {\n",
       "        vertical-align: middle;\n",
       "    }\n",
       "\n",
       "    .dataframe tbody tr th {\n",
       "        vertical-align: top;\n",
       "    }\n",
       "\n",
       "    .dataframe thead th {\n",
       "        text-align: right;\n",
       "    }\n",
       "</style>\n",
       "<table border=\"1\" class=\"dataframe\">\n",
       "  <thead>\n",
       "    <tr style=\"text-align: right;\">\n",
       "      <th></th>\n",
       "      <th>y_test</th>\n",
       "      <th>rf_pred</th>\n",
       "    </tr>\n",
       "  </thead>\n",
       "  <tbody>\n",
       "    <tr>\n",
       "      <td>0</td>\n",
       "      <td>6606</td>\n",
       "      <td>6596.190</td>\n",
       "    </tr>\n",
       "    <tr>\n",
       "      <td>1</td>\n",
       "      <td>1550</td>\n",
       "      <td>1498.995</td>\n",
       "    </tr>\n",
       "    <tr>\n",
       "      <td>2</td>\n",
       "      <td>3747</td>\n",
       "      <td>3462.610</td>\n",
       "    </tr>\n",
       "    <tr>\n",
       "      <td>3</td>\n",
       "      <td>6041</td>\n",
       "      <td>5358.000</td>\n",
       "    </tr>\n",
       "    <tr>\n",
       "      <td>4</td>\n",
       "      <td>7538</td>\n",
       "      <td>7480.985</td>\n",
       "    </tr>\n",
       "    <tr>\n",
       "      <td>...</td>\n",
       "      <td>...</td>\n",
       "      <td>...</td>\n",
       "    </tr>\n",
       "    <tr>\n",
       "      <td>215</td>\n",
       "      <td>2659</td>\n",
       "      <td>3976.175</td>\n",
       "    </tr>\n",
       "    <tr>\n",
       "      <td>216</td>\n",
       "      <td>7338</td>\n",
       "      <td>7294.155</td>\n",
       "    </tr>\n",
       "    <tr>\n",
       "      <td>217</td>\n",
       "      <td>6978</td>\n",
       "      <td>6824.850</td>\n",
       "    </tr>\n",
       "    <tr>\n",
       "      <td>218</td>\n",
       "      <td>4795</td>\n",
       "      <td>3520.080</td>\n",
       "    </tr>\n",
       "    <tr>\n",
       "      <td>219</td>\n",
       "      <td>3855</td>\n",
       "      <td>3829.690</td>\n",
       "    </tr>\n",
       "  </tbody>\n",
       "</table>\n",
       "<p>220 rows × 2 columns</p>\n",
       "</div>"
      ],
      "text/plain": [
       "     y_test   rf_pred\n",
       "0      6606  6596.190\n",
       "1      1550  1498.995\n",
       "2      3747  3462.610\n",
       "3      6041  5358.000\n",
       "4      7538  7480.985\n",
       "..      ...       ...\n",
       "215    2659  3976.175\n",
       "216    7338  7294.155\n",
       "217    6978  6824.850\n",
       "218    4795  3520.080\n",
       "219    3855  3829.690\n",
       "\n",
       "[220 rows x 2 columns]"
      ]
     },
     "execution_count": 113,
     "metadata": {},
     "output_type": "execute_result"
    }
   ],
   "source": [
    "Bike_df1=pd.DataFrame(y_test,columns=['y_test'])\n",
    "Bike_df2=pd.DataFrame(rf_pred,columns=['rf_pred'])\n",
    "Bike_predictions=pd.merge(Bike_df1,Bike_df2,left_index=True,right_index=True)\n",
    "Bike_predictions.to_csv('Bike_Renting_Python.csv')\n",
    "Bike_predictions"
   ]
  },
  {
   "cell_type": "markdown",
   "metadata": {},
   "source": [
    "According to model analysis Random forest model give a high accuracy and low mean absoulte percentage error than Decision tree and linear regression."
   ]
  },
  {
   "cell_type": "code",
   "execution_count": null,
   "metadata": {},
   "outputs": [],
   "source": []
  }
 ],
 "metadata": {
  "kernelspec": {
   "display_name": "Python 3",
   "language": "python",
   "name": "python3"
  },
  "language_info": {
   "codemirror_mode": {
    "name": "ipython",
    "version": 3
   },
   "file_extension": ".py",
   "mimetype": "text/x-python",
   "name": "python",
   "nbconvert_exporter": "python",
   "pygments_lexer": "ipython3",
   "version": "3.7.4"
  }
 },
 "nbformat": 4,
 "nbformat_minor": 2
}
